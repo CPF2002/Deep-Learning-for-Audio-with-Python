{
  "nbformat": 4,
  "nbformat_minor": 0,
  "metadata": {
    "colab": {
      "provenance": []
    },
    "kernelspec": {
      "name": "python3",
      "display_name": "Python 3"
    },
    "language_info": {
      "name": "python"
    }
  },
  "cells": [
    {
      "cell_type": "markdown",
      "source": [
        "The Sound of AI: \n",
        "[6- Implementing a neural network from scratch in Python](https://www.youtube.com/watch?v=0oWnheK-gGk)"
      ],
      "metadata": {
        "id": "iMycRPDpP9Ky"
      }
    },
    {
      "cell_type": "markdown",
      "source": [
        "Creates an MLP class object and preforms the arithemic with weight vectors and sigmond activation"
      ],
      "metadata": {
        "id": "JwqzSFrrQQ7l"
      }
    },
    {
      "cell_type": "code",
      "execution_count": null,
      "metadata": {
        "id": "cVl6kZOdJJdg"
      },
      "outputs": [],
      "source": [
        "import numpy as np"
      ]
    },
    {
      "cell_type": "code",
      "source": [
        "class MLP(object):\n",
        "  # defined how many inputs, each hidden layer (2), and outputs\n",
        "  \n",
        "  def __init__(self, num_inputs=3, hidden_layers=[3, 3], num_outputs=2):\n",
        "        \"\"\"Constructor for the MLP. Takes the number of inputs,\n",
        "            a variable number of hidden layers, and number of outputs\n",
        "        Args:\n",
        "            num_inputs (int): Number of inputs\n",
        "            hidden_layers (list): A list of ints for the hidden layers\n",
        "            num_outputs (int): Number of outputs\n",
        "        \"\"\"\n",
        "\n",
        "        self.num_inputs = num_inputs\n",
        "        self.hidden_layers = hidden_layers\n",
        "        self.num_outputs = num_outputs\n",
        "\n",
        "        # create a generic representation of the layers\n",
        "        layers = [num_inputs] + hidden_layers + [num_outputs]\n",
        "\n",
        "        # create random connection weights for the layers\n",
        "        weights = []\n",
        "        for i in range(len(layers)-1):\n",
        "          # w is a 2d matrix (array)\n",
        "            w = np.random.rand(layers[i], layers[i+1])\n",
        "            weights.append(w)\n",
        "        self.weights = weights\n",
        "\n",
        "  def forward_propagate(self, inputs):\n",
        "    # inputs is a vector\n",
        "    activations = inputs\n",
        "\n",
        "    # loop through all the layers\n",
        "    for w in self.weights: \n",
        "      # calculate net inputs\n",
        "      net_inputs = np.dot(activations, w) # does dot product between the two vectors\n",
        "\n",
        "      # calculate the activations\n",
        "      activations = self._sigmond(net_inputs)\n",
        "\n",
        "    return activations\n",
        "\n",
        "    \n",
        "  # sigmoid activation equation\n",
        "  def _sigmond(self, x):\n",
        "    return 1 / (1 + np.exp(-x))\n"
      ],
      "metadata": {
        "id": "5IqACYa9JP9M"
      },
      "execution_count": null,
      "outputs": []
    },
    {
      "cell_type": "code",
      "source": [
        "if __name__ == \"__main__\":\n",
        "  # create an MPL\n",
        "  mlp = MLP()\n",
        "\n",
        "  # create some inputs\n",
        "  inputs = np.random.rand(mlp.num_inputs)\n",
        "\n",
        "  # preform forward propoagation\n",
        "  outputs = mlp.forward_propagate(inputs)\n",
        "\n",
        "  # print results\n",
        "  print(\"The network inputs is: {}\".format(inputs))\n",
        "  print(\"The network outputs is: {}\".format(outputs))"
      ],
      "metadata": {
        "colab": {
          "base_uri": "https://localhost:8080/"
        },
        "id": "KvidKBnUJclR",
        "outputId": "0e9541b7-7c78-4656-d10b-c0da9120cf5a"
      },
      "execution_count": null,
      "outputs": [
        {
          "output_type": "stream",
          "name": "stdout",
          "text": [
            "The network inputs is: [0.91084967 0.10652687 0.33083838]\n",
            "The network outputs is: [0.85800962 0.73370773]\n"
          ]
        }
      ]
    },
    {
      "cell_type": "code",
      "source": [],
      "metadata": {
        "id": "I-YUQtTmN2Bb"
      },
      "execution_count": null,
      "outputs": []
    }
  ]
}